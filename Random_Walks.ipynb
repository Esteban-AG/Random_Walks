{
 "cells": [
  {
   "cell_type": "code",
   "execution_count": 3,
   "id": "f64c580a-078b-4efd-b076-8e215eccc38d",
   "metadata": {},
   "outputs": [],
   "source": [
    "import numpy as np\n",
    "import pandas as pd\n",
    "import matplotlib.pyplot as plt\n",
    "from scipy.stats import pareto"
   ]
  },
  {
   "cell_type": "code",
   "execution_count": null,
   "id": "49f50db5-ed32-4c6e-8e7a-5c979bf936bb",
   "metadata": {},
   "outputs": [],
   "source": [
    "# Generate a random number from a uniform distribution between 0 and 2π\n",
    "def random_direction():    \n",
    "    θ = np.random.uniform(0, 2*np.pi)\n",
    "    return np.array([np.cos(θ),np.sin(θ)]) \n",
    "\n",
    "# Generate the length of time and space displacement\n",
    "alpha = 1 # [0.5,1,1.5,2,3]\n",
    "beta = 0.5 # [0.5,1,1.5]\n",
    "Δt_min = 0.1\n"
   ]
  },
  {
   "cell_type": "code",
   "execution_count": null,
   "id": "f22c5776-188f-47ea-a567-a0ab13121806",
   "metadata": {},
   "outputs": [],
   "source": []
  }
 ],
 "metadata": {
  "kernelspec": {
   "display_name": "Python 3 (ipykernel)",
   "language": "python",
   "name": "python3"
  },
  "language_info": {
   "codemirror_mode": {
    "name": "ipython",
    "version": 3
   },
   "file_extension": ".py",
   "mimetype": "text/x-python",
   "name": "python",
   "nbconvert_exporter": "python",
   "pygments_lexer": "ipython3",
   "version": "3.11.7"
  }
 },
 "nbformat": 4,
 "nbformat_minor": 5
}
